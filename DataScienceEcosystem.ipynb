{
  "nbformat": 4,
  "nbformat_minor": 0,
  "metadata": {
    "colab": {
      "provenance": [],
      "authorship_tag": "ABX9TyOQXTTvkRP8Mr3UWwPUfqOU",
      "include_colab_link": true
    },
    "kernelspec": {
      "name": "python3",
      "display_name": "Python 3"
    },
    "language_info": {
      "name": "python"
    }
  },
  "cells": [
    {
      "cell_type": "markdown",
      "metadata": {
        "id": "view-in-github",
        "colab_type": "text"
      },
      "source": [
        "<a href=\"https://colab.research.google.com/github/aarushitahil/toolsfordatascience/blob/main/DataScienceEcosystem.ipynb\" target=\"_parent\"><img src=\"https://colab.research.google.com/assets/colab-badge.svg\" alt=\"Open In Colab\"/></a>"
      ]
    },
    {
      "cell_type": "markdown",
      "source": [
        "#Data Science Tools and Ecosystem"
      ],
      "metadata": {
        "id": "ZXpHPQhcqGwT"
      }
    },
    {
      "cell_type": "markdown",
      "source": [
        "In this notebook, Data Science Tools and Ecosystem are summarized."
      ],
      "metadata": {
        "id": "Gr5HeI8brbcG"
      }
    },
    {
      "cell_type": "markdown",
      "source": [
        "**Objectives:**\n",
        "\n",
        "\n",
        "*   List popular languages for Data Science\n",
        "*   List libraries commonly used by Data Scientists\n",
        "\n",
        "*   List Data Science tools\n",
        "\n",
        "\n",
        "\n"
      ],
      "metadata": {
        "id": "hUJJP7TLG5tj"
      }
    },
    {
      "cell_type": "markdown",
      "source": [
        "Some of the popular languages that Data Scientists use are:\n",
        "\n",
        "\n",
        "1.   Python\n",
        "2.   R\n",
        "3.   Scala\n",
        "\n"
      ],
      "metadata": {
        "id": "hRsEeTVEr6s3"
      }
    },
    {
      "cell_type": "markdown",
      "source": [
        "Some of the commonly used libraries used by Data Scientists are:\n",
        "\n",
        "\n",
        "1.   Seaborn\n",
        "2.   TensorFlow\n",
        "3.   Pandas\n",
        "\n"
      ],
      "metadata": {
        "id": "N2LKL8qFs2GJ"
      }
    },
    {
      "cell_type": "markdown",
      "source": [
        "| **Data Science Tools** |\n",
        "|-------------------------|\n",
        "| Jupyter Notebook        |\n",
        "| RStudio                 |\n",
        "| Apache Zeppelin         |"
      ],
      "metadata": {
        "id": "RgbiwpLqDyAV"
      }
    },
    {
      "cell_type": "markdown",
      "source": [
        "### Below are a few examples of evaluating arithmetic expressions in Python."
      ],
      "metadata": {
        "id": "xYXXMQdNE_Gm"
      }
    },
    {
      "cell_type": "code",
      "source": [
        "# This a simple arithmetic expression to mutiply then add integers.\n",
        "(3*4)+5"
      ],
      "metadata": {
        "colab": {
          "base_uri": "https://localhost:8080/"
        },
        "id": "xe3MBwyDFjb8",
        "outputId": "a08ac078-a833-448c-f8f6-aa14364b27c7"
      },
      "execution_count": 1,
      "outputs": [
        {
          "output_type": "execute_result",
          "data": {
            "text/plain": [
              "17"
            ]
          },
          "metadata": {},
          "execution_count": 1
        }
      ]
    },
    {
      "cell_type": "code",
      "source": [
        "# This will convert 200 minutes to hours by diving by 60.\n",
        "# Convert minutes to hours\n",
        "minutes = 200\n",
        "hours = minutes / 60\n",
        "hours"
      ],
      "metadata": {
        "colab": {
          "base_uri": "https://localhost:8080/"
        },
        "id": "gwUgj31MF4zr",
        "outputId": "cfd63e0b-d6a1-4fb1-9cde-a3751cfcc745"
      },
      "execution_count": 2,
      "outputs": [
        {
          "output_type": "execute_result",
          "data": {
            "text/plain": [
              "3.3333333333333335"
            ]
          },
          "metadata": {},
          "execution_count": 2
        }
      ]
    },
    {
      "cell_type": "markdown",
      "source": [
        "## Author\n",
        "Aarushi Tahilramani"
      ],
      "metadata": {
        "id": "3vQjciopIANU"
      }
    }
  ]
}